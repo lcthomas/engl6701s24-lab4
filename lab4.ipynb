{
 "cells": [
  {
   "cell_type": "markdown",
   "id": "9ea8247c-5eb1-49b7-9042-f47f169995a3",
   "metadata": {},
   "source": [
    "# Lab 4: Python and Jupyter Notebooks\n",
    "## ENGL 6701 Spring 2024\n",
    "\n",
    "Contact:\n",
    "Lindsay Thomas, lthomas@cornell.edu\n",
    "\n",
    "For more information about this lab and the context in which it was used in ENGL 6701, see [the Lab 4 page on the ENGL 6701 Spring 2024 course website](https://lindsaythomas.net/engl6701s24/labs/lab-4.html)."
   ]
  },
  {
   "cell_type": "markdown",
   "id": "1d644741-3032-471e-867d-b1af9946083d",
   "metadata": {},
   "source": [
    "### 0. Create and Save a Notes Document\n",
    "\n",
    "As with Lab 3, you will want to create and save a notes document before beginning this lab. Starting with section 5, you will be asked to write down your answers to specific questions in your lab notebook entry. As you complete these portions of the lab, take notes on your response in your notes document, and you can use these notes later in writing your lab notebook entry."
   ]
  },
  {
   "cell_type": "markdown",
   "id": "5596609c-69d2-4e33-beb5-71e7b128dae4",
   "metadata": {},
   "source": [
    "Since we are using Binder to work with this notebook, please note that none of the changes you make will be saved after your browser session. This includes outputs that are displayed to the notebook, as well as things like inserting filenames. When you shut this tab down or your laptop loses its connection to the internet or server, you will need to restart this notebook, and it will be like restarting from the beginning. That's ok, as this notebook doesn't require you to save anything to complete the lab. Just know that if you want to return to it in completing your lab, you may need to rerun cells in order to see their outputs again."
   ]
  },
  {
   "cell_type": "markdown",
   "id": "11043eae-b26e-4ff2-ad48-55fb968c6af8",
   "metadata": {},
   "source": [
    "### 1. Running Code in a Jupyter Notebook"
   ]
  },
  {
   "cell_type": "markdown",
   "id": "0cda48a1-aeca-46fb-a347-c5c53960bdc4",
   "metadata": {},
   "source": [
    "In a Jupyter notebook (what you are looking at now), code, outputs of the code such as visualizations, and writing about the code exist together in one place. A Jupyter notebook is organized via cells; if you double-click on this text right now, you will see that it turns into a cell containing Markdown text. You can \"run\" this cell (i.e., display the formatted text again instead of the plain-text Markdown) by selecting the cell and clicking the \"Run\" button at the top of the notebook (an icon that looks like a \"play\" button), by selecting the cell and then going to the Run menu and selecting \"Run Selected Cells,\" or by selecting the cell and clicking Control + return/enter."
   ]
  },
  {
   "cell_type": "markdown",
   "id": "179d201d-3f13-4498-914a-fc893eb0b3cf",
   "metadata": {},
   "source": [
    "You can tell if a cell contains executable code because, apart from the fact that it will include Python code, it will also include a pair of empty brackets `[]` to the left of the cell. If you see brackets and they are empty, this means that cell hasn't yet been run. If you see brackets next to a cell and the brackets include a number, this means the cell has been run. You can run these cells as described above: by selecting the cell and clicking the \"Run\" button at the top of the notebook (an icon that looks like a \"play\" button), by selecting the cell and then going to the Run menu and selecting \"Run Selected Cells,\" or by selecting the cell and clicking Control + return/enter.  Try it out on the next cell:"
   ]
  },
  {
   "cell_type": "code",
   "execution_count": null,
   "id": "6bd38e21-9361-4959-a1a9-c2ae6dd31833",
   "metadata": {},
   "outputs": [],
   "source": [
    "print(\"Yay I ran a cell!\")"
   ]
  },
  {
   "cell_type": "markdown",
   "id": "aa917558-828d-4260-a0ef-f5cd017f9624",
   "metadata": {},
   "source": [
    "Make sure to run every cell with code in this notebook as you proceed through it. You can tell if a cell is still running if an asterisk appears between the brackets to the left of the cell, like this: `[*]`."
   ]
  },
  {
   "cell_type": "markdown",
   "id": "7e7fe3f6-3ad6-48c8-b2e3-c79c111600d0",
   "metadata": {},
   "source": [
    "You can tell when your Jupyter notebook is connected to the server and ready to execute code because the dot in the upper right-hand corner of the notebook (next to the words \"Python 3 (ipykernel\") will be transparent. If you try to run a cell and it is taking a long time, or if it's not appearing to work, look up at this dot. If it's filled in and grey, this may mean you have lost connection with the server (or the \"kernel\"). To restart your session, go to Kernel > Restart Kernel. If you have to restart the kernel (like if you shut down your browser tab or your laptop goes to sleep), you lose any variables you have assigned during your session."
   ]
  },
  {
   "cell_type": "markdown",
   "id": "2d898773-d91a-4718-9b41-80700c6fa7ff",
   "metadata": {},
   "source": [
    "### 2. Variables and Python Syntax\n",
    "\n",
    "Portions of this section are drawn from the [\"Variables\" section of Chapter 2, \"Python Basics,\"](https://melaniewalsh.github.io/Intro-Cultural-Analytics/02-Python/04-Variables.html) from Melanie Walsh's free online textbook, *Introduction to Cultural Analytics & Python*."
   ]
  },
  {
   "cell_type": "markdown",
   "id": "4bb4a781-341e-4e59-8252-2548b8fc84c7",
   "metadata": {},
   "source": [
    "A variable is how you store data and information in Python. A variable is like a little box that you use to store filenames, words, numbers, collections of words and numbers, and more. Basically any values or data that you want your code to interact with or produce, you need to store in variables.\n",
    "\n",
    "There are rules about what characters variables can include in Python and about what words you can use for variables (see the [\"Variables\" section of Walsh's textbook](https://melaniewalsh.github.io/Intro-Cultural-Analytics/02-Python/04-Variables.html#variable-names) for more on these rules). In general, you should strive to give your variables clear and precise names that you (or others) will understand later.\n",
    "\n",
    "You assign variables with an equals `=` sign. In Python, a single equals sign `=` is the “assignment operator.” A double equals sign `==` is the “real” equals sign. Run the cells below to see what I mean."
   ]
  },
  {
   "cell_type": "code",
   "execution_count": null,
   "id": "42fd5137-2e74-4e9c-bafb-823d8a4fc0f2",
   "metadata": {},
   "outputs": [],
   "source": [
    "new_variable = 100\n",
    "print(new_variable)"
   ]
  },
  {
   "cell_type": "code",
   "execution_count": null,
   "id": "fdf74147-689b-4e4d-ab5f-1cf2770e72c0",
   "metadata": {},
   "outputs": [],
   "source": [
    "newer_variable = 2 * 2 == 4\n",
    "print(newer_variable)"
   ]
  },
  {
   "cell_type": "markdown",
   "id": "70a01efc-c2e2-4294-acf1-d0ed88d5d941",
   "metadata": {},
   "source": [
    "We can check to see what’s “inside” variables by running a cell with the variable’s name. This is one of the handiest features of a Jupyter notebook (although a notebook cell will only print the *last* value listed in the cell; for other values, you still need to use the `print()` function). Outside the Jupyter environment, you would need to use the `print()` function, as I have done above, to display the variable. Try it by running the below cell:"
   ]
  },
  {
   "cell_type": "code",
   "execution_count": null,
   "id": "3c63e05f-db7d-4c08-99cf-0aa954138c32",
   "metadata": {},
   "outputs": [],
   "source": [
    "another_variable = \"I'm another variable!\"\n",
    "another_variable"
   ]
  },
  {
   "cell_type": "markdown",
   "id": "d9618e12-2462-4e77-9f92-607521730b54",
   "metadata": {},
   "source": [
    "You can also use variables in Python to store the *output* of code so that you can access that output later. For example, run the 2 cells below in sequence:"
   ]
  },
  {
   "cell_type": "code",
   "execution_count": null,
   "id": "b8e9f896-2f4c-4e57-b000-e1d80a2aa9af",
   "metadata": {},
   "outputs": [],
   "source": [
    "output = 2 * 2\n",
    "output"
   ]
  },
  {
   "cell_type": "code",
   "execution_count": null,
   "id": "a9f5bdf3-a43f-4014-845d-d1e87dad855f",
   "metadata": {},
   "outputs": [],
   "source": [
    "final_result = output + 2\n",
    "final_result"
   ]
  },
  {
   "cell_type": "markdown",
   "id": "00600a9f-cd39-4d2d-8e01-c211e6884313",
   "metadata": {},
   "source": [
    "### 3. Python Data Types and Structures"
   ]
  },
  {
   "cell_type": "markdown",
   "id": "e20920f2-eda9-4473-ba45-4395c4dc8672",
   "metadata": {},
   "source": [
    "As emphasized above, variables can store all kinds of information types. \n",
    "\n",
    "#### Strings\n",
    "\n",
    "The variable below stores what's called a \"string\" in Python, which is textual data."
   ]
  },
  {
   "cell_type": "code",
   "execution_count": null,
   "id": "f35eb523-e6ba-474f-a06e-7620f40810ac",
   "metadata": {},
   "outputs": [],
   "source": [
    "string_variable = \"I'm textual data\"\n",
    "string_variable"
   ]
  },
  {
   "cell_type": "markdown",
   "id": "9841ae57-9af2-4292-a9be-46930367b14b",
   "metadata": {},
   "source": [
    "#### Integers and Booleans\n",
    "\n",
    "Other data types include integers (numbers) and Booleans (True/False) (there are more data types than this, but this is fine for today):"
   ]
  },
  {
   "cell_type": "code",
   "execution_count": null,
   "id": "0aba41c7-538b-45a0-97e6-08b55dd4cdf4",
   "metadata": {},
   "outputs": [],
   "source": [
    "integer_example = 37\n",
    "integer_example"
   ]
  },
  {
   "cell_type": "code",
   "execution_count": null,
   "id": "cadcc438-60ef-401e-b537-4b342eab19f7",
   "metadata": {},
   "outputs": [],
   "source": [
    "boolean_example = 2 * 2 == 4\n",
    "print(boolean_example)\n",
    "\n",
    "boolean_example_2 = 2 * 2 == 6\n",
    "print(boolean_example_2)"
   ]
  },
  {
   "cell_type": "markdown",
   "id": "0240f898-6da5-46c4-a42c-ce1c112e9ff4",
   "metadata": {},
   "source": [
    "#### Lists and For Loops\n",
    "\n",
    "There are also a variety of data structures in Python, or ways to organize and format data. The ones you will encounter today include \"lists\" and \"dictionaries.\""
   ]
  },
  {
   "cell_type": "code",
   "execution_count": null,
   "id": "c5c95757-e253-4b72-820a-8f4d302f12d3",
   "metadata": {},
   "outputs": [],
   "source": [
    "list_example = [1, 2, 3]\n",
    "list_example"
   ]
  },
  {
   "cell_type": "markdown",
   "id": "5d8c89e6-bb02-4998-999c-92b9c5ee75a5",
   "metadata": {},
   "source": [
    "As you can see, a list in Python is a data structure that contains an ordered sequence of values. You know a list is a list in Python because it's contained within brackets `[]`. When you see something like this in a Python script:\n",
    "\n",
    "`list_example = []`\n",
    "\n",
    "This means that this variable, `list_example` in this case, is being \"defined\" as a list; later on in the script, values will be placed in that list in a particular order."
   ]
  },
  {
   "cell_type": "markdown",
   "id": "c5f9737d-eca0-42b9-b822-3819fa58fe8c",
   "metadata": {},
   "source": [
    "You can iterate through the contents of a list using what's called a \"for loop.\" For loops allow you to operate on each item in the list one at a time. The syntax is in the cell below; what happens when you run it?"
   ]
  },
  {
   "cell_type": "code",
   "execution_count": null,
   "id": "0cb4eb28-58d0-49e1-a001-c07709a46b0d",
   "metadata": {},
   "outputs": [],
   "source": [
    "list_example = [1, 2, 3]\n",
    "\n",
    "for item in list_example:\n",
    "    print(item)"
   ]
  },
  {
   "cell_type": "markdown",
   "id": "2d1aec8b-cb63-436c-945f-0d2f9241f966",
   "metadata": {},
   "source": [
    "As we can see, this code is saying, \"for each item in the variable `list_example` (which is a list), iterate through and print each one.\""
   ]
  },
  {
   "cell_type": "markdown",
   "id": "5f44d040-8d03-43ed-96ee-cb7cedd1e9e0",
   "metadata": {},
   "source": [
    "#### Dictionaries\n",
    "\n",
    "A dictionary is another way to organize data in Python; it is an unordered collection of (usually) paired values. Dictionaries are frequently used in text analysis to store word frequency data. For example (run the below cell):"
   ]
  },
  {
   "cell_type": "code",
   "execution_count": null,
   "id": "37f6d076-4b3b-4c63-90ad-c5fcb555e2d2",
   "metadata": {},
   "outputs": [],
   "source": [
    "dictionary_example = {\"color\": 3, \"me\": 2, \"your\": 2, \"baby\": 1, \"car\": 1} \n",
    "dictionary_example"
   ]
  },
  {
   "cell_type": "markdown",
   "id": "ef668114-9a4b-4f4d-9474-6d501e32daa5",
   "metadata": {},
   "source": [
    "The dictionary above, `dictionary_example`, contains word frequency data for the first 2 lines of Blondie's song \"Call Me\" (\"Color me your color baby, Color me your car\"). As we can see, the word \"color\" appears 3 times in that string, \"me\" appears 2 times, \"your\" appears 2 times, \"baby\" once, and \"car\" once."
   ]
  },
  {
   "cell_type": "markdown",
   "id": "9e89683f-b849-4faa-85be-da28ccac5994",
   "metadata": {},
   "source": [
    "You know a dictionary is a dictionary in Python because it's contained within curly brackets `{}`. When you see something like this in a Python script:\n",
    "\n",
    "`dictionary_example = {}`\n",
    "\n",
    "This means that this variable, `dictionary_example` in this case, is being \"defined\" as a dictionary; later on in the script, values will be placed in that dictionary in a particular order. \n",
    "\n",
    "You can also create a dictionary in Python from two already existing lists using the built-in `dict()` and `zip()` functions, like this:\n",
    "\n",
    "`dictionary_example = dict(zip(list1, list2))`\n",
    "\n",
    "Run the below code to see what I mean:"
   ]
  },
  {
   "cell_type": "code",
   "execution_count": null,
   "id": "254c3fe2-aab9-40f5-b605-5756b094e33a",
   "metadata": {},
   "outputs": [],
   "source": [
    "list1 = [\"color\", \"me\", \"your\", \"baby\", \"car\"]\n",
    "list2 = [3, 2, 2, 1, 1]\n",
    "\n",
    "dictionary_example = dict(zip(list1, list2))\n",
    "dictionary_example"
   ]
  },
  {
   "cell_type": "markdown",
   "id": "a9fda699-a60b-40b9-a361-cd4c6ed165e1",
   "metadata": {},
   "source": [
    "The pairs in a dictionary are often called \"key:value\" pairs. In the example above, the keys are the words, while the values are the numbers, and the first key:value pair is `\"color\": 3`. You can use functions built-in to Python to access just the keys or just the values of any given dictionary. For example:"
   ]
  },
  {
   "cell_type": "code",
   "execution_count": null,
   "id": "13e87a38-2955-4417-8d0b-16496e97f23b",
   "metadata": {},
   "outputs": [],
   "source": [
    "terms = dictionary_example.keys()\n",
    "print(terms)\n",
    "\n",
    "counts = dictionary_example.values()\n",
    "print(counts)"
   ]
  },
  {
   "cell_type": "markdown",
   "id": "b6016a72-82fd-47eb-8d64-55bf449dfc98",
   "metadata": {},
   "source": [
    "### 4. File Handling in Python"
   ]
  },
  {
   "cell_type": "markdown",
   "id": "cac29347-cab0-47f2-8822-cf49876e02b4",
   "metadata": {},
   "source": [
    "If you have a file containing data you want to interact with using Python, you need to \"read\" that file \"into\" Python (i.e., you need to open it using Python so your code can access its contents). In Python 3 (the version of Python we are using here), opening up a file to read its contents looks like this:"
   ]
  },
  {
   "cell_type": "code",
   "execution_count": null,
   "id": "4eeea4de-463d-4c39-b78e-0b80dae2a792",
   "metadata": {},
   "outputs": [],
   "source": [
    "example_file = \"example_file.txt\"\n",
    "\n",
    "with open(example_file, 'r') as fin:\n",
    "    for line in fin:\n",
    "        print(line)"
   ]
  },
  {
   "cell_type": "markdown",
   "id": "e63bffbf-eff6-4cc9-a219-3c018aa9c109",
   "metadata": {},
   "source": [
    "Let's break this process down. \n",
    "\n",
    "1. If you look in [this lab's repository](https://github.com/lcthomas/engl6701s24-lab4) (and/or to the left of this notebook in the JupyterLab file interface), you will find a file there named `example_file.txt`. This is the file we are opening with this code. The first line above assigns the filepath of the file we want our code to read to the variable `example_file`. This tells our code where to look for the file we want to open.\n",
    "2. The next line of code (line 3), uses Python's `open()` function to open that file. A few things are happening here:\n",
    "    - The syntax `with open()` is a short-hand way to open the file and then automatically close it once Python has read its contents. In older versions of Python, you had to make sure to both open files and then close them when you were done with them, but this syntax automatically closes files.\n",
    "    - We can see that the thing being opened is assigned to the `example_file` variable.\n",
    "    - The `r` after the variable name tells Python to \"read\" the contents of the file. There are various options you can use here; to explore others, Google someting like \"Python file open options.\" In fact, we don't need to explicitly include the `r` here, as it's the default option with the `open()` function.\n",
    "    - The `as fin` portion of the code is assigning the data contained within \"example_file.txt\" to the variable `fin` (this variable is often used by people writing Python to mean \"file-input\").\n",
    "3. Line 4, which must be indented, tells the code to read the input file line by line. As you can see if you take a look at \"example_file.txt\" in this lab's GitHub repo, there is only one line in this file. Note: we could have used anything for the `line` variable here; the code would work just as well if it read `for x in fin:`. But I've used the variable `line` to remind myself that what I am doing here is reading the file line by line.\n",
    "4. Line 5, which again must be indented, tells Python to print the contents of each line in sequence (again, there is only one line)."
   ]
  },
  {
   "cell_type": "markdown",
   "id": "1f5f856b-4666-490b-99c4-6b87057ca10a",
   "metadata": {},
   "source": [
    "#### Now you try it\n",
    "\n",
    "There is another plain-text file in this repository; the filepath is `\"another_example_file.txt\"`. The code in the cell below, like the code in the cell above, will read the contents of the file and print them line by line. What do you need to do to the code in the cell below to read in that file?"
   ]
  },
  {
   "cell_type": "code",
   "execution_count": null,
   "id": "da81c349-3da7-4a91-a04c-7b42af4f3a95",
   "metadata": {},
   "outputs": [],
   "source": [
    "example_file = # delete this comment and insert the filename you want here, put it in quotes\n",
    "\n",
    "with open(example_file, 'r') as fin:\n",
    "    for line in fin:\n",
    "        print(line)"
   ]
  },
  {
   "cell_type": "markdown",
   "id": "188e3fb4-a281-4342-b8e9-e8eeb21746d5",
   "metadata": {},
   "source": [
    "If you got a `SyntaxError` after running the above cell, this means you didn't delete the comment and insert the filename you want in its place. If you got a `NameError`, this may be because you didn't put the name of the file you want to open in quotes."
   ]
  },
  {
   "cell_type": "markdown",
   "id": "6082276d-31e3-4f80-bde5-157f8bdbfd79",
   "metadata": {},
   "source": [
    "### 5. Anatomy of a Python Function"
   ]
  },
  {
   "cell_type": "markdown",
   "id": "7332c683-5425-44e5-9f38-b676edcf2b2f",
   "metadata": {},
   "source": [
    "If we have a chunk of code that we are going to re-use or package inside another chunk of code, it's often useful to write that code as a function. Let's break down the different parts of the below function:"
   ]
  },
  {
   "cell_type": "code",
   "execution_count": null,
   "id": "3d7c9f35-55df-4b33-8f7c-7bb505a898f7",
   "metadata": {},
   "outputs": [],
   "source": [
    "import re\n",
    "\n",
    "def split_into_words(any_chunk_of_text):\n",
    "    # split the string into individual terms and make them all lowercase\n",
    "    words = re.split(\"\\W+\", any_chunk_of_text.lower())\n",
    "    return words \n",
    "\n",
    "any_chunk_of_text = \"Okay, okay, ladies, now let's get in formation, cause I slay\"\n",
    "\n",
    "all_the_words = split_into_words(any_chunk_of_text)\n",
    "print(all_the_words)"
   ]
  },
  {
   "cell_type": "markdown",
   "id": "0370ae90-817d-48c5-a45d-e9507b554a16",
   "metadata": {},
   "source": [
    "#### Import packages\n",
    "\n",
    "In the first line, we are telling Python to `import` code that other people have written into our code so that we can use some of that other code's functions (make sure to run all of the code cells in this section, or the cell where you call the function won't work):"
   ]
  },
  {
   "cell_type": "code",
   "execution_count": null,
   "id": "6276c669-c42a-43aa-a882-df254f3fbdbb",
   "metadata": {},
   "outputs": [],
   "source": [
    "import re"
   ]
  },
  {
   "cell_type": "markdown",
   "id": "322982aa-b801-4c77-84e5-2208e8141f96",
   "metadata": {},
   "source": [
    "We call the code written and packaged up by other people a “library,” “package,” or “module.” For now it's enough to know that you import libraries/packages/modules at the very top of a Python script for later use. Importing existing libraries/packages/modules will save you time and do a lot of work behind the scenes.\n",
    "\n",
    "In the above function, we are importing the [`re` package, which handles regular expressions](https://docs.python.org/3/library/re.html). "
   ]
  },
  {
   "cell_type": "markdown",
   "id": "4bd83ab8-09e9-4561-a6c8-418a3029ecc7",
   "metadata": {},
   "source": [
    "#### Define the function\n",
    "\n",
    "Next we define the function:"
   ]
  },
  {
   "cell_type": "code",
   "execution_count": null,
   "id": "a57fe9c4-e326-4bb6-be94-b192ffbf8829",
   "metadata": {},
   "outputs": [],
   "source": [
    "def split_into_words(any_chunk_of_text):\n",
    "    # split the string into individual terms and make them all lowercase\n",
    "    words = re.split(\"\\W+\", any_chunk_of_text.lower())\n",
    "    return words "
   ]
  },
  {
   "cell_type": "markdown",
   "id": "7a41bdf2-745a-4688-b85e-87a4d93d01cc",
   "metadata": {},
   "source": [
    "In this case, it's a function called `split_into_words`, which takes in any chunk of text, transforms that text to lower-case, and splits the text into a list of \"clean\" words without punctuation or spaces. It then returns that list as the output of the function. When you ran the above cell, you probably noticed that, while you can see a number in the brackets to the left of the cell, indicating the cell ran, nothing happened. This is because we’re not actually using the function yet, just defining it (i.e., telling the computer what the function does).\n",
    "\n",
    "You may also notice that the above code contains a line that is commented out with a hashtag `#`. This line is colored green. Comments are non-executable; the hashtag (`#`) tells the computer to skip that line. Comments are usually used to quickly explain what the code below is doing. If you want to write a long comment, you can place it between a series of three apostrophes on either side of the comment, as below:"
   ]
  },
  {
   "cell_type": "code",
   "execution_count": null,
   "id": "72a79d12-56f0-4da4-92db-e60d6f73d3fb",
   "metadata": {},
   "outputs": [],
   "source": [
    "def split_into_words(any_chunk_of_text):\n",
    "    '''A long comment a very long comment quite long indeed this is really long I'm writing \n",
    "    so much I need another line'''\n",
    "    words = re.split(\"\\W+\", any_chunk_of_text.lower())\n",
    "    return words"
   ]
  },
  {
   "cell_type": "markdown",
   "id": "92467125-3759-4d2a-a3db-d67d9fc9ea9c",
   "metadata": {},
   "source": [
    "A final thing to note about this function is the indentation of lines 2-4, or all of the lines following the first line defining the function. In Python, indentation is very important. Try to run the below code and see what happens:"
   ]
  },
  {
   "cell_type": "code",
   "execution_count": null,
   "id": "f1652a8d-231c-4dd6-8b2d-7a5116678466",
   "metadata": {},
   "outputs": [],
   "source": [
    "def split_into_words(any_chunk_of_text):\n",
    "# split the string into individual terms and make them all lowercase\n",
    "words = re.split(\"\\W+\", any_chunk_of_text.lower())\n",
    "return words "
   ]
  },
  {
   "cell_type": "markdown",
   "id": "daece6bb-f32e-447c-88c3-0e7d26ac0b29",
   "metadata": {},
   "source": [
    "You should see an `IndentationError`, which alerts you to the fact that when writing functions, you need to indent the lines after the first line of the function. In Python, you also indent `for` loops and `if...else` clauses, both of which you will see in the final section of this notebook."
   ]
  },
  {
   "cell_type": "markdown",
   "id": "6dfc91b9-170b-40ea-a705-4e505586a2cb",
   "metadata": {},
   "source": [
    "#### Assign variables\n",
    "\n",
    "Next we assign the variables we need to make the function work:"
   ]
  },
  {
   "cell_type": "code",
   "execution_count": null,
   "id": "b00e7a2d-d655-4385-8484-dbbe86786826",
   "metadata": {},
   "outputs": [],
   "source": [
    "any_chunk_of_text = \"Okay, okay, ladies, now let's get in formation, cause I slay\""
   ]
  },
  {
   "cell_type": "markdown",
   "id": "5ac60d7a-175d-41c0-9317-2fce0e00cbaa",
   "metadata": {},
   "source": [
    "This is the text that we will use as input for our function. But notice how this specific input is separated out from the operations of the code within the function (i.e, we don't *have* to use this specific text in order to run the function). We could use any chunk of text in this function. In fact, that is the utility of writing functions: they allow you to separate out specific inputs from the operations performed on those inputs, and hence to repeat code in different contexts."
   ]
  },
  {
   "cell_type": "markdown",
   "id": "63a7c3a6-70bc-434f-b9ad-44161a478836",
   "metadata": {},
   "source": [
    "#### Call the function\n",
    "\n",
    "Now we call the function, i.e., tell the computer to run it. Notice here that we are storing the results of the function in the variable `all_the_words` and then printing the value of that variable (i.e., the output of the function) in the second line."
   ]
  },
  {
   "cell_type": "code",
   "execution_count": null,
   "id": "8081a84d-7eca-48b6-a680-bdb1761971ab",
   "metadata": {},
   "outputs": [],
   "source": [
    "all_the_words = split_into_words(any_chunk_of_text)\n",
    "print(all_the_words)"
   ]
  },
  {
   "cell_type": "markdown",
   "id": "161a1ea2-cc35-49f1-beaf-81041c844af7",
   "metadata": {},
   "source": [
    "If you got a `NameError` that indicates, for example, that `name 'split_into_words' is not defined`, this means you need to define the function using the cell under \"Define the Function\" above."
   ]
  },
  {
   "cell_type": "markdown",
   "id": "25768fce-ab84-40f9-a27a-65c449628240",
   "metadata": {},
   "source": [
    "#### Question 1\n",
    "What do you notice about how this function has split the string \"Okay, okay, ladies, now let's get in formation, cause I slay\"? What has it done that isn't quite right, and why has it done this? Write down your response in your notes document.\n",
    "\n",
    "Hint: Look at the regular expression being used in this line of code from the function:<br/>\n",
    "`words = re.split(\"\\W+\", any_chunk_of_text.lower())`\n",
    "\n",
    "What does the regular expression `\"\\W+\"` mean in Python? To find this out, you can [search the `re` package documentation](https://docs.python.org/3/library/re.html). Search the page (command/control + F in a web browser) for the term `\\W`. What does it mean? Do the same for the `+` sign. What does it do? So what do these symbols mean when used together in a regular expression?"
   ]
  },
  {
   "cell_type": "markdown",
   "id": "ede370e1-6323-43b2-a31c-981d561524ca",
   "metadata": {},
   "source": [
    "#### Now you try it\n",
    "\n",
    "Let's run the `split_into_words` function with a chunk of text of your choosing."
   ]
  },
  {
   "cell_type": "code",
   "execution_count": null,
   "id": "a30d51d3-c2b7-4916-a5f1-b2068b24c626",
   "metadata": {},
   "outputs": [],
   "source": [
    "import re\n",
    "\n",
    "def split_into_words(any_chunk_of_text):\n",
    "    # split the string into individual terms and make them all lowercase\n",
    "    words = re.split(\"\\W+\", any_chunk_of_text.lower())\n",
    "    return words \n",
    "\n",
    "any_chunk_of_text = # insert your text here, making sure to put it in quotation marks\n",
    "\n",
    "all_the_words = split_into_words(any_chunk_of_text)\n",
    "print(all_the_words)"
   ]
  },
  {
   "cell_type": "markdown",
   "id": "54024b88-73b0-47bc-b188-a26941f55e2c",
   "metadata": {},
   "source": [
    "If you got a `SyntaxError` after running the above cell, this means you didn't delete the comment and insert the string (or chunk of text) you want in its place. If you got a `NameError`, this may be because you didn't put your string in quotes."
   ]
  },
  {
   "cell_type": "markdown",
   "id": "a1ae4ae7-ea2e-4753-9640-3498277a14fe",
   "metadata": {},
   "source": [
    "#### Question 2\n",
    "What happened? Did it work as you expected? If not, what happened that you *didn't* expect? Write down your response in your notes document."
   ]
  },
  {
   "cell_type": "markdown",
   "id": "a53fde2f-9b15-46ae-bdc0-c8bd1aabd4bf",
   "metadata": {},
   "source": [
    "### 6. The Function I Wrote to Count the Use of \"Ver\" vs \"Vir\" Spellings in EEBO Texts\n",
    "\n",
    "Now we are ready to look at the function I wrote to answer the question described on the [\"Lab 4\" page on our course website](https://lindsaythomas.net/engl6701s24/labs/lab-4.html). I have modified this code slightly to save the output as a dataframe rather than a .csv file.\n",
    "\n",
    "\n",
    "The first thing to know is that this function is exceedingly ugly! Don't be intimidated by its length; I've included a lot of comments below describing what almost every line of the function does. One thing to note about this function is that it's really *not* very efficient -- it's not the best possible way to perform this task -- and so it's slow. I wrote it only about six months after learning Python. Looking back at it now, I can identify places in the code where I could be less verbose and more efficient, or where I could structure the steps differently in order to speed up processing. But you know what? Oh well! Although the code is slow, it works, I understand it, and it accomplished the task I needed it to accomplish.\n",
    "\n",
    "All you need to do next is: \n",
    "1. Run the below cell. \n",
    "2. Read through each line of the function. If you don't understand the specific Python syntax of each line, that's ok. Instead, the goal is to understand the \"transformations\" (to use Schmidt's vocabulary) wrought by each line. As you read, try to understand what is happening in each step.\n"
   ]
  },
  {
   "cell_type": "code",
   "execution_count": null,
   "id": "9ad9bdfb-7d5c-46e7-81a3-7947d6837b7a",
   "metadata": {},
   "outputs": [],
   "source": [
    "# Import the packages we need\n",
    "\n",
    "# BeautifulSoup is a package for parsing encoded text such as TEI, other kinds of XML, HTML, etc\n",
    "from bs4 import BeautifulSoup\n",
    "# os is a very commonly used package for miscellaneous utility functions like listing contents of\n",
    "# a directory\n",
    "import os\n",
    "# you should recognize this package (see earlier in this notebook)!\n",
    "import re\n",
    "# this is a package for creating and storing dataframes, or spreadsheet-like data structures\n",
    "import pandas as pd\n",
    "\n",
    "# Define the function and include a comment that succinctly describes what it does\n",
    "# The variables we need are:\n",
    "# xml_dir = the directory of xml files\n",
    "# include_a = the first list of words to find, i.e., the list of virtu* words to find\n",
    "# include_b = the second list of words to find, i.e., the list of vertu* words to find\n",
    "def compare_counts_specific(xml_dir, include_a, include_b):\n",
    "    '''Produces dataframe with total counts of EEBO-TCP xml files containing words in include_a and \n",
    "    include_b lists. Saves filename, author, title, publication date, word1 total, and word2 total \n",
    "    to pandas dataframe. Prints total number of documents processed and total number of documents\n",
    "    containing either virtu* or vertu* words.'''\n",
    "    # assign an empty list to variable hits_list; this variable will store total number of \n",
    "    # documents that contain virtu* and/or vertu* words\n",
    "    hits_list = []\n",
    "    # assign an empty list to variable rows; this variable will store each row in the dataframe\n",
    "    # as they are built by the function\n",
    "    rows = []\n",
    "    # list the contents of the directory with the xml files by filename (the os.listdir() function\n",
    "    # turns the contents of a directory into a list of filenames)\n",
    "    # then, iterate through each filename and do all of the following steps\n",
    "    # i.e., for each file in that directory, do the following:\n",
    "    for xmlfile in os.listdir(xml_dir):\n",
    "        # assign variables to hold lists of virtu* and vertu* words\n",
    "        list_a = [] \n",
    "        list_b = [] \n",
    "        # assign a variable to hold the specific filepath of each file the code is iterating through\n",
    "        file_path = xml_dir + '/' + xmlfile\n",
    "        # check that the file is an xml file and not a directory\n",
    "        if os.path.isdir(file_path) == False and file_path.endswith('.xml'):\n",
    "            # open the xml file\n",
    "            with open(file_path, 'rb') as fin:\n",
    "                # assign all of the contents of the file to contents variable\n",
    "                contents = fin.read()\n",
    "            # use BeautifulSoup to process the file contents so that we can grab information\n",
    "            # from particular tags\n",
    "            soup = BeautifulSoup(contents,'xml')\n",
    "            # if there is a <text> tag:\n",
    "            if soup.find('text'):\n",
    "                # retrieve the value of the <text> tag and make it lowercase\n",
    "                text = soup.find('text').get_text().lower()\n",
    "                # for each word in the first list of words to search for:\n",
    "                for item in include_a:\n",
    "                    # use regular expressions to search for each word in the first list\n",
    "                    # if each word is in the file's <text> tag,\n",
    "                    # store it in variable a (automatically stored as a list of 1)\n",
    "                    a = re.findall(r'\\b{0}\\b'.format(item), text, flags=re.IGNORECASE)\n",
    "                    # if the term exists in the file (i.e., if the length of the list is not 0):\n",
    "                    if len(a) != 0:\n",
    "                        # add a to list_a to keep a list of all of the virtu* hits for this file\n",
    "                        list_a.extend(a)\n",
    "                # for each word in the second list of words to search for:\n",
    "                for item in include_b:\n",
    "                    # use regular expressions to search for each word in the second list\n",
    "                    # if each word is in the file's <text> tag,\n",
    "                    # store it in variable b (automatically stored as a list of 1)\n",
    "                    b = re.findall(r'\\b{0}\\b'.format(item), text, flags=re.IGNORECASE)\n",
    "                    # if the term exists in the file (i.e., if the length of the list is not 0):\n",
    "                    if len(b) != 0:\n",
    "                        # add b to list_b to keep a list of all of the vertu* hits for this file\n",
    "                        list_b.extend(b)\n",
    "                # if there is nothing in list_a and list_b after reading the contents of this file\n",
    "                # i.e., if the file does not contain either virtu* or vertu* words\n",
    "                # go to the next file\n",
    "                if len(list_a) == 0 and len(list_b) == 0: \n",
    "                    pass\n",
    "                # otherwise...\n",
    "                else:\n",
    "                    # add the name of this file to the hits_list variable\n",
    "                    # because it represents a \"hit,\" or a file that contains virtu* and/or vertu* words\n",
    "                    hits_list.append(xmlfile)\n",
    "                    # use regular expressions to delete all non-word characters in each list of virtu* and\n",
    "                    # vertu* words, in case any got through\n",
    "                    list_a = [re.sub('\\W+','', token) for token in list_a]\n",
    "                    list_b = [re.sub('\\W+','', token) for token in list_b]\n",
    "                    # count the number of times each term in each list occurs\n",
    "                    a_wf = [list_a.count(token) for token in list_a if token.isalnum()==True]\n",
    "                    b_wf = [list_b.count(token) for token in list_b if token.isalnum()==True]\n",
    "                    # create a dictionary including each term with the number of times it occurs\n",
    "                    # in each list\n",
    "                    a_freqdict = dict(zip(list_a, a_wf))\n",
    "                    b_freqdict = dict(zip(list_b, b_wf))\n",
    "                    # get just the counts from each list\n",
    "                    a_total = sum(a_freqdict.values())\n",
    "                    b_total = sum(b_freqdict.values())\n",
    "                    # look for the <author> tag in this file\n",
    "                    author = soup.find('author')\n",
    "                    # if there is an <author> tag\n",
    "                    if author:\n",
    "                        # grab the value\n",
    "                        author = author.get_text()\n",
    "                    # look for the <title> tag in this file\n",
    "                    title = soup.find('title')\n",
    "                    # if there is a <title> tag\n",
    "                    if title:\n",
    "                        # grab the value\n",
    "                        title = title.get_text()\n",
    "                    # now we do some truly terrible date handling\n",
    "                    # look for the <date> tag in this file\n",
    "                    date = soup.find('date')\n",
    "                    # if there is a <date> tag:\n",
    "                    if date:\n",
    "                        # grab the value\n",
    "                        date = date.get_text()\n",
    "                        # The publication dates in eebo xml files are irregular because the dates \n",
    "                        # of publication included in early modern books are often irregular.\n",
    "                        # EEBO-TCP files also represent years of transcription work with slightly varying \n",
    "                        # schemas in some instances, and sometimes the date of transcription\n",
    "                        # is encoded in the file using the '<date>' tag as well.\n",
    "                        # What we want is the date of \"publication\" of each text, which sometimes\n",
    "                        # occurs in the first '<date>' tag in a file, and sometimes in the second.\n",
    "                        # ALL of the remaining code indented under `if date:` above is about\n",
    "                        # using regular expressions to manage various kinds of irregular \n",
    "                        # publication dates and put them into a standard YYYY format,\n",
    "                        # this includes all of the code until the next commented line.\n",
    "                        # As per our discussions of data \"cleaning\" in class, we are definitely\n",
    "                        # losing information about the \"publication\" dates of some of these texts via\n",
    "                        # this process. We are also, in some instances, deciding to give a text a firm\n",
    "                        # \"publication\" date when in fact none exists (i.e., scholars don't exactly know\n",
    "                        # what specific year a text was printed). In this context, for this research\n",
    "                        # question, that loss of information and false precision doesn't matter so much,\n",
    "                        # as long as we recognize that is what is happening. For other questions,\n",
    "                        # however, it might matter very much.\n",
    "                        if re.search(r'(\\d\\d\\d\\d)', date):\n",
    "                            date = re.search(r'(\\d\\d\\d\\d)', date).group(0)\n",
    "                        date = ''.join(i for i in date if i.isdigit() or i in string.punctuation)\n",
    "                        date = re.sub('[.,:>\\(\\)]', '', date)\n",
    "                        if re.search(r'^20\\d\\d', date): \n",
    "                            date = soup.find_all('date')[1]\n",
    "                            if date:\n",
    "                                date = date.get_text()\n",
    "                                # causes some false precision for dates with brackets\n",
    "                                if re.search(r'(\\d\\d\\d\\d)', date):\n",
    "                                    date = re.search(r'(\\d\\d\\d\\d)', date).group(0)\n",
    "                                date = ''.join(i for i in date if i.isdigit() or i in string.punctuation)\n",
    "                                date = re.sub('[.,:>\\(\\)]', '', date)\n",
    "                        if re.search(r'^20', date):\n",
    "                            date = re.sub('20', '', date)\n",
    "                        if re.search(r'--(\\d\\d\\d\\d)--', date):\n",
    "                            date = re.search('--(\\d\\d\\d\\d)--',date).group(0)\n",
    "                        if re.search(r'----(\\d\\d\\d\\d)', date):\n",
    "                            date = re.search('----(\\d\\d\\d\\d)',date).group(0)\n",
    "                        if re.search(r'-(\\d\\d\\d\\d)', date):\n",
    "                            date = re.search('-(\\d\\d\\d\\d)',date).group(0)\n",
    "                        if re.search(r'--(\\d\\d\\d\\d)', date):\n",
    "                            date = re.search('--(\\d\\d\\d\\d)',date).group(0)\n",
    "                        if re.search(r'(\\d\\d\\d\\d)--', date):\n",
    "                            date = re.search('(\\d\\d\\d\\d)--',date).group(0)\n",
    "                        if re.search('17411742', date):\n",
    "                            date = re.sub('17411742', '1741-1742', date)\n",
    "                        if re.search(r'^10', date):\n",
    "                            date = re.sub('10', '', date)\n",
    "                        if re.search(r'^25', date):\n",
    "                            date = re.sub('25', '', date)\n",
    "                        if re.search(r'^26--', date):\n",
    "                            date = re.sub('26--', '', date)\n",
    "                        if re.search('17811782', date):\n",
    "                            date = re.sub('17811782', '1781-1782', date)\n",
    "                        if re.search('1800424', date):\n",
    "                            date = re.sub('424', '', date)\n",
    "                        if re.search('18004', date):\n",
    "                            date = re.sub('4', '', date)\n",
    "                        if re.search('17661767?', date):\n",
    "                            date = re.sub('17661767?', '1766-1767?', date)\n",
    "                            date = re.sub('57911791', '1791', date)\n",
    "                        if re.search('17121711', date):\n",
    "                            date = re.sub('17121711', '1712, 1711', date)\n",
    "                        if re.search('17626', date):\n",
    "                            date = re.sub('17626', '1762', date)\n",
    "                        if re.search('175710', date):\n",
    "                            date = re.sub('175710', '1757', date)\n",
    "                        if re.search('175610', date):\n",
    "                            date = re.sub('175610', '1756', date)\n",
    "                        if re.search(r'^5\\d\\d\\d', date):\n",
    "                            date = re.sub(r'^5', '1', date)\n",
    "                        if re.search('1767215', date):\n",
    "                            date = re.sub('1767215', '1767', date)\n",
    "                    # ok, we have finally finished with various date issues\n",
    "                    # now, create a row (like in a spreadsheet) containing the following info:\n",
    "                    # xmlfile = the filename of this particular xml file\n",
    "                    # author = the value we found for the <author> tag\n",
    "                    # title = the value we found for the <title> tag\n",
    "                    # date = the massaged <date> value\n",
    "                    # a_total = the total number of virtu* words in the file\n",
    "                    # b_total = the total number of vertu* words in the file\n",
    "                    # add this row of values to the rows variable, which holds the values for\n",
    "                    # the other files in this directory as well\n",
    "                    rows.append([xmlfile, author, title, date, a_total, b_total])\n",
    "    # Ok, now you can tell by this indentation that we have exited the for loop, meaning we've looped \n",
    "    # through all of the files in the directory.\n",
    "    # Now we can create the pandas dataframe from the rows list, provide column names in the correct \n",
    "    # order.\n",
    "    df = pd.DataFrame(rows, columns = ['filename', 'author', 'title', 'date', 'virtu*', 'vertu*'])             \n",
    "    # print the number of xml documents processed by the script\n",
    "    # and print the number of documents that contain either virtu* or vertu* words\n",
    "    print(str(len(hits_list)) + ' documents with hits\\n',\n",
    "        str(len([x for x in os.listdir(xml_dir) if x.endswith('.xml')])) + ' total documents processed')\n",
    "    # return the dataframe, meaning recognize it as the output of the function, which can be\n",
    "    # saved in a variable for further manipulation.\n",
    "    return df\n",
    "\n",
    "                "
   ]
  },
  {
   "cell_type": "markdown",
   "id": "b8921fc3-9982-4344-89d4-f4d5417c5031",
   "metadata": {},
   "source": [
    "Now we are going to call the function and pass it some data to use. The below cell won't work unless you have run the above cell -- if you see a `NameError` appear below the cell, this likely means the above cell hasn't been run. The below cell may take a few moments to run; you will see the asterisk appear in the brackets to the left of the cell. This tells you the code is still working.\n",
    "\n",
    "There is a folder of 10 EEBO xml files in this repository (`eebo-test`), randomly selected from the data Jessica and I used with this code. We are going to tell the `compare_counts_specific` function to use the files in that directory as input. We are also going to give the function two lists of words to count: `include_a` is a list of \"virtu*\" words; and `include_b` is a list of \"vertu* words."
   ]
  },
  {
   "cell_type": "code",
   "execution_count": null,
   "id": "da314b44-6237-48c0-9246-f85ebebbb0be",
   "metadata": {},
   "outputs": [],
   "source": [
    "# usage\n",
    "\n",
    "# the directory with the files we want to use\n",
    "xml_dir = 'eebo-test'\n",
    "# list of virtu* words\n",
    "include_a = ['virtu,' 'virtus', 'virtue', 'virtues', 'virtuous', 'virtuouse', 'virtuosity', 'virtuositie']\n",
    "# list of vertu* words\n",
    "include_b = ['vertu', 'vertus', 'vertue', 'vertues','vertuous', 'vertuouse', 'vertuosity', 'vertuositie']\n",
    "\n",
    "# call the function and assign its output to the df variable\n",
    "df = compare_counts_specific(xml_dir, include_a, include_b)\n",
    "\n",
    "# display the value of the df variable\n",
    "df\n",
    "\n"
   ]
  },
  {
   "cell_type": "markdown",
   "id": "aacc4ccf-a03b-45d4-b094-13647a48f91e",
   "metadata": {},
   "source": [
    "#### Question 3\n",
    "Describe the output of this script (the dataframe that displays after the above cell finishes running). Remember that this is the same output as the \"vir-ver-counts-specific\" spreadsheet in our lab 4 folder on Canvas, only for just 10 texts. What is this dataframe showing us? Write down your response in your notes document."
   ]
  },
  {
   "cell_type": "markdown",
   "id": "cc6a1bfa-939d-49ca-8076-9a9e46fdd320",
   "metadata": {},
   "source": [
    "#### Question 4\n",
    "Look at the below lines from the `compare_counts_specific` function above. These lines use regular expressions to do something to the value of the `<date>` field in an xml file (if the contents of the `<date>` field meet certain conditions, that is). What are these lines doing? Here are the lines (you don't need to run this code; just examine it; it won't work if you try to run it):"
   ]
  },
  {
   "cell_type": "code",
   "execution_count": null,
   "id": "547e55b8-549e-4c5f-8bc1-442e9f84ab4d",
   "metadata": {},
   "outputs": [],
   "source": [
    "if re.search(r'^20', date):\n",
    "    date = re.sub('20', '', date)"
   ]
  },
  {
   "cell_type": "markdown",
   "id": "3a6c9318-d661-42fd-b83a-577fa19b296b",
   "metadata": {},
   "source": [
    "Hint: In Python, you need to include an `r` before a regular expression -- such as in `if re.search(r'^20', date):` -- if that regular expression contains special characters, such as a carat `^`. If you don't know what the regular expression `^20` means in Python regex syntax, how can you find out?"
   ]
  }
 ],
 "metadata": {
  "kernelspec": {
   "display_name": "Python 3 (ipykernel)",
   "language": "python",
   "name": "python3"
  },
  "language_info": {
   "codemirror_mode": {
    "name": "ipython",
    "version": 3
   },
   "file_extension": ".py",
   "mimetype": "text/x-python",
   "name": "python",
   "nbconvert_exporter": "python",
   "pygments_lexer": "ipython3",
   "version": "3.9.7"
  }
 },
 "nbformat": 4,
 "nbformat_minor": 5
}
